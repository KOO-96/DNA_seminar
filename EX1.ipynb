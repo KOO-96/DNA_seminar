{
  "nbformat": 4,
  "nbformat_minor": 0,
  "metadata": {
    "colab": {
      "provenance": [],
      "mount_file_id": "1vyJvrln8eqS5NdSz3fCEKSTrHUEoP09t",
      "authorship_tag": "ABX9TyPj7kK8sxL6raFtCcDnZpF4",
      "include_colab_link": true
    },
    "kernelspec": {
      "name": "python3",
      "display_name": "Python 3"
    },
    "language_info": {
      "name": "python"
    }
  },
  "cells": [
    {
      "cell_type": "markdown",
      "metadata": {
        "id": "view-in-github",
        "colab_type": "text"
      },
      "source": [
        "<a href=\"https://colab.research.google.com/github/KOO-96/DNA_seminar/blob/main/EX1.ipynb\" target=\"_parent\"><img src=\"https://colab.research.google.com/assets/colab-badge.svg\" alt=\"Open In Colab\"/></a>"
      ]
    },
    {
      "cell_type": "code",
      "execution_count": null,
      "metadata": {
        "id": "CwzwEk39pa-6"
      },
      "outputs": [],
      "source": [
        "import os\n",
        "import glob\n",
        "import cv2\n",
        "import time\n",
        "\n",
        "class Make_dataset_dir():\n",
        "  def __init__(self, root_dir):\n",
        "    self.root_path = root_dir+'/' if root_dir[-1] != '/' else root_dir # 현재 진행할 프로젝트\n",
        "    self.img_path_list = root_dir+'original' # 전달한 이미지들의 상위 경로\n",
        "    self.trainset_path = root_dir+'train/'\n",
        "    self.validset_path = root_dir+'valid/'\n",
        "    self.testset_path = root_dir+'test/'\n",
        "    self.class_list = ['dolphin', 'shark', 'whale']\n",
        "\n",
        "  def mk_dir(self):\n",
        "    '''train, valid, test 폴더를 만들고, 내부에는 클래스 별 폴더를 추가로 만들어 주세요.'''\n",
        "    dataset_dir_list = [self.trainset_path, self.validset_path, self.testset_path]\n",
        "    for dataset_dir in dataset_dir_list:\n",
        "      for cls in self.class_list:\n",
        "        os.makedirs(dataset_dir+cls, exist_ok=True)\n",
        "    print('디렉토리 생성을 완료하였습니다.')\n",
        "    \n",
        "  def move_img(self):\n",
        "    '''mk_dir에서 만든 폴더들에 각 클래스에 맞는 이미지를 배당해주세요. train, valid, test에 각각 7: 2: 1'''\n",
        "    dolphin_img_list = glob.glob('/content/drive/MyDrive/CV_seminar_project/original/dolphin/*')\n",
        "    shark_img_list = glob.glob('/content/drive/MyDrive/CV_seminar_project/original/shark/*')\n",
        "    whale_img_list = glob.glob('/content/drive/MyDrive/CV_seminar_project/original/whale/*')\n",
        "    \n",
        "    dic = {'dolphin':dolphin_img_list, 'shark': shark_img_list, 'whale': whale_img_list} # 딕셔너리 생성\n",
        "    for key in dic.keys():\n",
        "      length_list.append([int(len(dic[key])*0.7), int(len(dic[key])*0.2), int(len(dic[key])*0.1)]) # 클래스 별 분할 개수 리스트 생성\n",
        "\n",
        "    for i,key in enumerate(dic.keys()):\n",
        "      spliting_length = length_list[i]\n",
        "\n",
        "      for ii, img_path in enumerate(dic[key]):\n",
        "        if ii+1 <= spliting_length[0] : # train셋 개수이면,\n",
        "          img = cv2.imread(img_path)\n",
        "          img_name = img_path.split('/')[-1]\n",
        "          cv2.imwrite(self.trainset_path + '/' + key + '/' + img_name, img)\n",
        "\n",
        "        elif spliting_length[0] < ii+1 and ii+1 <= spliting_length[0] + spliting_length[1]: # valid셋 개수이면,\n",
        "          img = cv2.imread(img_path)\n",
        "          img_name = img_path.split('/')[-1]\n",
        "          cv2.imwrite(self.validset_path + '/' + key + '/' + img_name, img)\n",
        "\n",
        "        else:\n",
        "          img = cv2.imread(img_path)\n",
        "          img_name = img_path.split('/')[-1]\n",
        "          cv2.imwrite(self.testset_path + '/' + key + '/' + img_name, img)\n",
        "    print('데이터 스플릿이 전부 완료되었습니다.')\n",
        "\n",
        "  def run(self):\n",
        "    start = time.time()\n",
        "    self.mk_dir()\n",
        "    self.move_img()\n",
        "    print('총 소요시간: ', time.time()-start)\n",
        "\n",
        "  def checking_dirs(self):\n",
        "    path_list = [self.trainset_path, self.validset_path, self.testset_path]\n",
        "\n",
        "    for i,path in enumerate(path_list):\n",
        "      length_dic = {}\n",
        "      for cls in self.class_list:\n",
        "        length_dic[cls] = len(glob.glob(path+cls+'/*'))\n",
        "\n",
        "      if i==0:\n",
        "        for key in length_dic:\n",
        "          print( f'trainset의 {key}클래스 개수: {length_dic[key]}')\n",
        "        print('---------------------------------------------------------------')\n",
        "      elif i==1:\n",
        "        for key in length_dic:\n",
        "          print( f'validset의 {key}클래스 개수: {length_dic[key]}')\n",
        "        print('---------------------------------------------------------------')\n",
        "      else:\n",
        "        for key in length_dic:\n",
        "          print( f'validset의 {key}클래스 개수: {length_dic[key]}')"
      ]
    }
  ]
}