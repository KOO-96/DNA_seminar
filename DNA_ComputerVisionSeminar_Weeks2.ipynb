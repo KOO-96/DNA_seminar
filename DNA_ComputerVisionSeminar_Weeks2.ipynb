{
  "nbformat": 4,
  "nbformat_minor": 0,
  "metadata": {
    "colab": {
      "provenance": [],
      "include_colab_link": true
    },
    "kernelspec": {
      "name": "python3",
      "display_name": "Python 3"
    },
    "language_info": {
      "name": "python"
    }
  },
  "cells": [
    {
      "cell_type": "markdown",
      "metadata": {
        "id": "view-in-github",
        "colab_type": "text"
      },
      "source": [
        "<a href=\"https://colab.research.google.com/github/KOO-96/DNA_seminar/blob/main/DNA_ComputerVisionSeminar_Weeks2.ipynb\" target=\"_parent\"><img src=\"https://colab.research.google.com/assets/colab-badge.svg\" alt=\"Open In Colab\"/></a>"
      ]
    },
    {
      "cell_type": "markdown",
      "source": [
        "# Weeks2\n",
        "1. Transfer Learning (전이 학습)\n",
        "   - 다른 이의 가중치를 그대로 이용하려함.\n",
        "   - Feature Extraction\n",
        "- Imagenet Chanllenge\n",
        "- Transfer Learning"
      ],
      "metadata": {
        "id": "sIAMBOYGMmpr"
      }
    },
    {
      "cell_type": "markdown",
      "source": [
        "- Fine Tuning: 미세 조정.\n",
        "- Backbone\n",
        "  - Vggnet 사용했으면 Vggnet의 CNN단\n",
        "  - ResNet 사용했으면 ResNet의 CNN단"
      ],
      "metadata": {
        "id": "Ay9ol3syRLqa"
      }
    },
    {
      "cell_type": "markdown",
      "source": [
        "## Weeks2 과제 solution."
      ],
      "metadata": {
        "id": "hQNKIpfMNzTa"
      }
    },
    {
      "cell_type": "code",
      "source": [
        "from google.colab import drive\n",
        "drive.mount('/content/drive')"
      ],
      "metadata": {
        "colab": {
          "base_uri": "https://localhost:8080/"
        },
        "id": "HWt573jIMyLk",
        "outputId": "a6426b7c-45f5-474c-faa8-fa6d4cd8f9b4"
      },
      "execution_count": null,
      "outputs": [
        {
          "output_type": "stream",
          "name": "stdout",
          "text": [
            "Mounted at /content/drive\n"
          ]
        }
      ]
    },
    {
      "cell_type": "code",
      "source": [
        "# 현재 경로를 앞으로 진행할 프로젝트 디렉토리로 이동한다.\n",
        "%cd /content/drive/MyDrive/CV_seminar_project "
      ],
      "metadata": {
        "colab": {
          "base_uri": "https://localhost:8080/"
        },
        "id": "ZBW-_wQFNIWf",
        "outputId": "7f5e48c4-dcc6-455f-84f3-cc1337e4c018"
      },
      "execution_count": null,
      "outputs": [
        {
          "output_type": "stream",
          "name": "stdout",
          "text": [
            "/content/drive/MyDrive/CV_seminar_project\n"
          ]
        }
      ]
    },
    {
      "cell_type": "code",
      "source": [
        "# 현재 경로 확인.\n",
        "%pwd"
      ],
      "metadata": {
        "colab": {
          "base_uri": "https://localhost:8080/",
          "height": 36
        },
        "id": "RAqM14dENIZz",
        "outputId": "a5370e95-077c-4002-dc52-9fd1754fc0cd"
      },
      "execution_count": null,
      "outputs": [
        {
          "output_type": "execute_result",
          "data": {
            "text/plain": [
              "'/content/drive/MyDrive/CV_seminar_project'"
            ],
            "application/vnd.google.colaboratory.intrinsic+json": {
              "type": "string"
            }
          },
          "metadata": {},
          "execution_count": 6
        }
      ]
    },
    {
      "cell_type": "code",
      "source": [
        "import glob\n",
        "\n",
        "dolphin = glob.glob('/content/drive/MyDrive/CV_seminar_project/original/dolphin/*.jpg')\n",
        "shark = glob.glob('/content/drive/MyDrive/CV_seminar_project/original/shark/*.jpg')\n",
        "whale = glob.glob('/content/drive/MyDrive/CV_seminar_project/original/whale/*.jpg')\n",
        "\n",
        "dic = {'dolphin':dolphin, 'shark': shark, 'whale': whale}\n",
        "for key in dic.keys():\n",
        "  print(f'{key}이미지가 ',len(dic[key]), '개 있습니다.')\n",
        "print('------------------------------------------------------------------------')\n",
        "\n",
        "length_list = []\n",
        "for key in dic.keys():\n",
        "  print(f'{key}이미지는 trian, valid, test셋에 대해 ',int(len(dic[key])*0.7), int(len(dic[key])*0.2), int(len(dic[key])*0.1), '개씩 배정해주세요.')\n",
        "  length_list.append([int(len(dic[key])*0.7), int(len(dic[key])*0.2), int(len(dic[key])*0.1)])"
      ],
      "metadata": {
        "colab": {
          "base_uri": "https://localhost:8080/"
        },
        "id": "ZIFaks0rNIc7",
        "outputId": "5f84e3e6-8f38-4403-8bd2-9f41df47e0c4"
      },
      "execution_count": null,
      "outputs": [
        {
          "output_type": "stream",
          "name": "stdout",
          "text": [
            "dolphin이미지가  373 개 있습니다.\n",
            "shark이미지가  488 개 있습니다.\n",
            "whale이미지가  451 개 있습니다.\n",
            "------------------------------------------------------------------------\n",
            "dolphin이미지는 trian, valid, test셋에 대해  261 74 37 개씩 배정해주세요.\n",
            "shark이미지는 trian, valid, test셋에 대해  341 97 48 개씩 배정해주세요.\n",
            "whale이미지는 trian, valid, test셋에 대해  315 90 45 개씩 배정해주세요.\n"
          ]
        }
      ]
    },
    {
      "cell_type": "markdown",
      "source": [
        "## 직접 짠 코드."
      ],
      "metadata": {
        "id": "wiNWonU0ODoV"
      }
    },
    {
      "cell_type": "code",
      "source": [
        "import os, shutil, random\n",
        "import glob\n",
        "import cv2\n",
        "import time\n",
        "\n",
        "class Make_dataset_dir():\n",
        "  def __init__(self, root_dir):\n",
        "    self.root_path = root_dir+'/' if root_dir[-1] != '/' else root_dir \n",
        "    # 현재 진행할 프로젝트 -> root path는 /content/drive/MyDrive/CV_seminar_project/ 가 되어야합니다.\n",
        "    self.img_path_list = root_dir+'original' # 전달한 이미지들의 상위 경로\n",
        "    self.trainset_path = root_dir+'train/'\n",
        "    self.validset_path = root_dir+'valid/'\n",
        "    self.testset_path = root_dir+'test/'\n",
        "    self.class_list = ['dolphin', 'shark', 'whale']\n",
        "\n",
        "  def mk_dir(self):\n",
        "    '''train, valid, test 폴더를 만들고, 내부에는 클래스 별 폴더를 추가로 만들어 주세요.'''\n",
        "    for i in self.class_list:\n",
        "      train = self.trainset_path + i\n",
        "      valid = self.validset_path + i\n",
        "      test = self.testset_path + i\n",
        "      for path in [train, valid, test]:\n",
        "        os.makedirs(path, exist_ok = True)\n",
        "    \n",
        "  def move_img(self):\n",
        "    # dolphin path\n",
        "    train_dol_path = self.trainset_path + 'dolphin'\n",
        "    valid_dol_path = self.validset_path + 'dolphin'\n",
        "    test_dol_path = self.testset_path + 'dolphin'\n",
        "    # shark path\n",
        "    train_sh_path = self.trainset_path + 'shark'\n",
        "    valid_sh_path = self.validset_path + 'shark'\n",
        "    test_sh_path = self.testset_path + 'shark'\n",
        "    # whale_path\n",
        "    train_wh_path = self.trainset_path + 'whale'\n",
        "    valid_wh_path = self.validset_path + 'whale'\n",
        "    test_wh_path = self.testset_path + 'whale'\n",
        "\n",
        "    # original 폴더 내 파일명 리스트로 반환\n",
        "    dol_path = self.img_path_list +'/dolphin'\n",
        "    sh_path = self.img_path_list +'/shark'\n",
        "    wh_path = self.img_path_list +'/whale'\n",
        "\n",
        "    dolphin_list = os.listdir(dol_path)\n",
        "    shark_list = os.listdir(sh_path)\n",
        "    whale_list = os.listdir(wh_path)\n",
        "\n",
        "    #dolphin 7:3:1 분류 진행 -> 차집합 이용  train: a1 ; valid: b1 ; test:c1\n",
        "    a1, b1, c1 = [], [], []\n",
        "    for j in random.sample(dolphin_list, round(len(dolphin)*0.70)):\n",
        "      a1.append(j)\n",
        "      b0 = [x for x in dolphin_list if x not in a1]\n",
        "    for k in random.sample(b0, round(len(b0)*0.67)):\n",
        "      b1.append(k)\n",
        "      c1 = [x for x in b0 if x not in b1]\n",
        "\n",
        "\n",
        "    #shark 7:3:1 분류 진행 -> 차집합 이용  train: a2 ; valid: b2 ; test:c2\n",
        "    a2, b2, c2 = [], [], []\n",
        "    for l in random.sample(shark_list, round(len(shark)*0.70)):\n",
        "      a2.append(l)\n",
        "      b4 = [x for x in shark_list if x not in a2]\n",
        "    for m in random.sample(b4, round(len(b4)*0.67)):\n",
        "      b2.append(m)\n",
        "      c2 = [x for x in b4 if x not in b2]\n",
        "\n",
        "\n",
        "    #whale 7:3:1 분류 진행 -> 차집합 이용  train: a3 ; valid: b3 ; test:c3\n",
        "    a3, b3, c3 = [], [], []\n",
        "    for n in random.sample(whale_list, round(len(whale)*0.70)):\n",
        "      a3.append(n)\n",
        "      b5 = [x for x in whale_list if x not in a3]\n",
        "    for k in random.sample(b5, round(len(b5)*0.67)):\n",
        "      b3.append(k)\n",
        "      c3 = [x for x in b5 if x not in b3]\n",
        "\n",
        "    # 폴더 이동 original -> train, valid, test\n",
        "    for i in dolphin_list:\n",
        "      if i in a1:\n",
        "        shutil.copy(dol_path + '/' + i, train_dol_path + '/' + i)\n",
        "      elif i in b1:\n",
        "        shutil.copy(dol_path + '/' + i, valid_dol_path + '/' + i)\n",
        "      elif i in c1:\n",
        "        shutil.copy(dol_path + '/' + i, test_dol_path + '/' + i)\n",
        "\n",
        "    for i in shark_list:\n",
        "      if i in a2:\n",
        "        shutil.copy(sh_path + '/' + i, train_sh_path + '/' + i)\n",
        "      elif i in b2:\n",
        "        shutil.copy(sh_path + '/' + i, valid_sh_path + '/' + i)\n",
        "      elif i in c2:\n",
        "        shutil.copy(sh_path + '/' + i, test_sh_path + '/' + i)\n",
        "\n",
        "    for i in whale_list:\n",
        "      if i in a3:\n",
        "        shutil.copy(wh_path + '/' + i, train_wh_path + '/' + i)\n",
        "      elif i in b3:\n",
        "        shutil.copy(wh_path + '/' + i, valid_wh_path + '/' + i)\n",
        "      elif i in c3:\n",
        "        shutil.copy(wh_path + '/' + i, test_wh_path + '/' + i)\n",
        "\n",
        "  def run(self):\n",
        "    start = time.time()\n",
        "    self.mk_dir()\n",
        "    self.move_img()\n",
        "    print('총 소요시간: ', time.time()-start)\n",
        "\n",
        "  def checking_dirs(self):\n",
        "    path_list = [self.trainset_path, self.validset_path, self.testset_path]\n",
        "    for i,path in enumerate(path_list):\n",
        "      length_dic = {}\n",
        "      for cls in self.class_list:\n",
        "        length_dic[cls] = len(glob.glob(path+cls+'/*'))\n",
        "\n",
        "      if i==0:\n",
        "        for key in length_dic:\n",
        "          print( f'trainset의 {key}클래스 개수: {length_dic[key]}')\n",
        "        print('---------------------------------------------------------------')\n",
        "      elif i==1:\n",
        "        for key in length_dic:\n",
        "          print( f'validset의 {key}클래스 개수: {length_dic[key]}')\n",
        "        print('---------------------------------------------------------------')\n",
        "      else:\n",
        "        for key in length_dic:\n",
        "          print( f'validset의 {key}클래스 개수: {length_dic[key]}')\n"
      ],
      "metadata": {
        "id": "hEsIfaCCOCKA"
      },
      "execution_count": null,
      "outputs": []
    },
    {
      "cell_type": "markdown",
      "source": [
        "## Solution 코드."
      ],
      "metadata": {
        "id": "HY0hOMP0PY0k"
      }
    },
    {
      "cell_type": "code",
      "source": [
        "import os\n",
        "import glob\n",
        "import cv2\n",
        "import time\n",
        "\n",
        "class Make_dataset_dir():\n",
        "  def __init__(self, root_dir):\n",
        "    self.root_path = root_dir+'/' if root_dir[-1] != '/' else root_dir # 현재 진행할 프로젝트\n",
        "    self.img_path_list = root_dir+'original' # 전달한 이미지들의 상위 경로\n",
        "    self.trainset_path = root_dir+'train/'\n",
        "    self.validset_path = root_dir+'valid/'\n",
        "    self.testset_path = root_dir+'test/'\n",
        "    self.class_list = ['dolphin', 'shark', 'whale']\n",
        "\n",
        "  def mk_dir(self):\n",
        "    '''train, valid, test 폴더를 만들고, 내부에는 클래스 별 폴더를 추가로 만들어 주세요.'''\n",
        "    dataset_dir_list = [self.trainset_path, self.validset_path, self.testset_path]\n",
        "    for dataset_dir in dataset_dir_list:\n",
        "      for cls in self.class_list:\n",
        "        os.makedirs(dataset_dir+cls, exist_ok=True)\n",
        "    print('디렉토리 생성을 완료하였습니다.')\n",
        "    \n",
        "  def move_img(self):\n",
        "    '''mk_dir에서 만든 폴더들에 각 클래스에 맞는 이미지를 배당해주세요. train, valid, test에 각각 7: 2: 1'''\n",
        "    dolphin_img_list = glob.glob('/content/drive/MyDrive/CV_seminar_project/original/dolphin/*')\n",
        "    shark_img_list = glob.glob('/content/drive/MyDrive/CV_seminar_project/original/shark/*')\n",
        "    whale_img_list = glob.glob('/content/drive/MyDrive/CV_seminar_project/original/whale/*')\n",
        "    \n",
        "    dic = {'dolphin':dolphin_img_list, 'shark': shark_img_list, 'whale': whale_img_list} # 딕셔너리 생성\n",
        "    for key in dic.keys():\n",
        "      length_list.append([int(len(dic[key])*0.7), int(len(dic[key])*0.2), int(len(dic[key])*0.1)]) # 클래스 별 분할 개수 리스트 생성\n",
        "\n",
        "    for i,key in enumerate(dic.keys()):\n",
        "      spliting_length = length_list[i]\n",
        "\n",
        "      for ii, img_path in enumerate(dic[key]):\n",
        "        if ii+1 <= spliting_length[0] : # train셋 개수이면,\n",
        "          img = cv2.imread(img_path)\n",
        "          img_name = img_path.split('/')[-1]\n",
        "          cv2.imwrite(self.trainset_path + '/' + key + '/' + img_name, img)\n",
        "\n",
        "        elif spliting_length[0] < ii+1 and ii+1 <= spliting_length[0] + spliting_length[1]: # valid셋 개수이면,\n",
        "          img = cv2.imread(img_path)\n",
        "          img_name = img_path.split('/')[-1]\n",
        "          cv2.imwrite(self.validset_path + '/' + key + '/' + img_name, img)\n",
        "\n",
        "        else:\n",
        "          img = cv2.imread(img_path)\n",
        "          img_name = img_path.split('/')[-1]\n",
        "          cv2.imwrite(self.testset_path + '/' + key + '/' + img_name, img)\n",
        "    print('데이터 스플릿이 전부 완료되었습니다.')\n",
        "\n",
        "  def run(self):\n",
        "    start = time.time()\n",
        "    self.mk_dir()\n",
        "    self.move_img()\n",
        "    print('총 소요시간: ', time.time()-start)\n",
        "\n",
        "  def checking_dirs(self):\n",
        "    path_list = [self.trainset_path, self.validset_path, self.testset_path]\n",
        "\n",
        "    for i,path in enumerate(path_list):\n",
        "      length_dic = {}\n",
        "      for cls in self.class_list:\n",
        "        length_dic[cls] = len(glob.glob(path+cls+'/*'))\n",
        "\n",
        "      if i==0:\n",
        "        for key in length_dic:\n",
        "          print( f'trainset의 {key}클래스 개수: {length_dic[key]}')\n",
        "        print('---------------------------------------------------------------')\n",
        "      elif i==1:\n",
        "        for key in length_dic:\n",
        "          print( f'validset의 {key}클래스 개수: {length_dic[key]}')\n",
        "        print('---------------------------------------------------------------')\n",
        "      else:\n",
        "        for key in length_dic:\n",
        "          print( f'validset의 {key}클래스 개수: {length_dic[key]}')"
      ],
      "metadata": {
        "id": "7nnIPvDONIgB"
      },
      "execution_count": null,
      "outputs": []
    },
    {
      "cell_type": "markdown",
      "source": [
        "-> 직접 짠 코드에 대한 의견: 가독성이 좋지못했음."
      ],
      "metadata": {
        "id": "0Lkb9y50Tmqw"
      }
    }
  ]
}